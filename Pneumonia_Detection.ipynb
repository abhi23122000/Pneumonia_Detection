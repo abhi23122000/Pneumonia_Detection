{
  "nbformat": 4,
  "nbformat_minor": 0,
  "metadata": {
    "colab": {
      "name": "Pneumonia Detection.ipynb",
      "provenance": [],
      "toc_visible": true
    },
    "kernelspec": {
      "name": "python3",
      "display_name": "Python 3"
    },
    "accelerator": "GPU"
  },
  "cells": [
    {
      "cell_type": "code",
      "metadata": {
        "id": "CWlqCgnWq_EH",
        "colab_type": "code",
        "colab": {
          "base_uri": "https://localhost:8080/",
          "height": 230
        },
        "outputId": "87a10fc2-9784-4a27-9b5f-8d7a591ab6ae"
      },
      "source": [
        "#install the dependencies\n",
        "! pip install kaggle"
      ],
      "execution_count": 1,
      "outputs": [
        {
          "output_type": "stream",
          "text": [
            "Requirement already satisfied: kaggle in /usr/local/lib/python3.6/dist-packages (1.5.6)\n",
            "Requirement already satisfied: six>=1.10 in /usr/local/lib/python3.6/dist-packages (from kaggle) (1.15.0)\n",
            "Requirement already satisfied: requests in /usr/local/lib/python3.6/dist-packages (from kaggle) (2.23.0)\n",
            "Requirement already satisfied: tqdm in /usr/local/lib/python3.6/dist-packages (from kaggle) (4.41.1)\n",
            "Requirement already satisfied: python-dateutil in /usr/local/lib/python3.6/dist-packages (from kaggle) (2.8.1)\n",
            "Requirement already satisfied: python-slugify in /usr/local/lib/python3.6/dist-packages (from kaggle) (4.0.1)\n",
            "Requirement already satisfied: urllib3<1.25,>=1.21.1 in /usr/local/lib/python3.6/dist-packages (from kaggle) (1.24.3)\n",
            "Requirement already satisfied: certifi in /usr/local/lib/python3.6/dist-packages (from kaggle) (2020.6.20)\n",
            "Requirement already satisfied: chardet<4,>=3.0.2 in /usr/local/lib/python3.6/dist-packages (from requests->kaggle) (3.0.4)\n",
            "Requirement already satisfied: idna<3,>=2.5 in /usr/local/lib/python3.6/dist-packages (from requests->kaggle) (2.10)\n",
            "Requirement already satisfied: text-unidecode>=1.3 in /usr/local/lib/python3.6/dist-packages (from python-slugify->kaggle) (1.3)\n"
          ],
          "name": "stdout"
        }
      ]
    },
    {
      "cell_type": "code",
      "metadata": {
        "id": "YN9cTEVCrJ16",
        "colab_type": "code",
        "colab": {
          "resources": {
            "http://localhost:8080/nbextensions/google.colab/files.js": {
              "data": "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",
              "ok": true,
              "headers": [
                [
                  "content-type",
                  "application/javascript"
                ]
              ],
              "status": 200,
              "status_text": ""
            }
          },
          "base_uri": "https://localhost:8080/",
          "height": 91
        },
        "outputId": "a7382c7e-ea4a-40a5-e315-4bc134481b79"
      },
      "source": [
        "from google.colab import files\n",
        "files.upload()"
      ],
      "execution_count": 2,
      "outputs": [
        {
          "output_type": "display_data",
          "data": {
            "text/html": [
              "\n",
              "     <input type=\"file\" id=\"files-fd20cfa9-6fe8-4933-bae9-02a1fbc019a6\" name=\"files[]\" multiple disabled\n",
              "        style=\"border:none\" />\n",
              "     <output id=\"result-fd20cfa9-6fe8-4933-bae9-02a1fbc019a6\">\n",
              "      Upload widget is only available when the cell has been executed in the\n",
              "      current browser session. Please rerun this cell to enable.\n",
              "      </output>\n",
              "      <script src=\"/nbextensions/google.colab/files.js\"></script> "
            ],
            "text/plain": [
              "<IPython.core.display.HTML object>"
            ]
          },
          "metadata": {
            "tags": []
          }
        },
        {
          "output_type": "stream",
          "text": [
            "Saving kaggle.json to kaggle.json\n"
          ],
          "name": "stdout"
        },
        {
          "output_type": "execute_result",
          "data": {
            "text/plain": [
              "{'kaggle.json': b'{\"username\":\"abhi2312\",\"key\":\"bfa87cc9d37133e444bea58ac83219ff\"}'}"
            ]
          },
          "metadata": {
            "tags": []
          },
          "execution_count": 2
        }
      ]
    },
    {
      "cell_type": "code",
      "metadata": {
        "id": "CiN090gjr2oV",
        "colab_type": "code",
        "colab": {}
      },
      "source": [
        "!mkdir -p ~/.kaggle\n",
        "!cp kaggle.json ~/.kaggle/"
      ],
      "execution_count": 3,
      "outputs": []
    },
    {
      "cell_type": "code",
      "metadata": {
        "id": "hZtngwzssZJq",
        "colab_type": "code",
        "colab": {}
      },
      "source": [
        "# change the permission\n",
        "!chmod 600 ~/.kaggle/kaggle.json"
      ],
      "execution_count": 4,
      "outputs": []
    },
    {
      "cell_type": "code",
      "metadata": {
        "id": "y6Uf-pNmsug6",
        "colab_type": "code",
        "colab": {
          "base_uri": "https://localhost:8080/",
          "height": 70
        },
        "outputId": "8e2b2e47-b79d-48aa-b493-fdd2b3ac1986"
      },
      "source": [
        "! kaggle datasets download -d paultimothymooney/chest-xray-pneumonia"
      ],
      "execution_count": 5,
      "outputs": [
        {
          "output_type": "stream",
          "text": [
            "Downloading chest-xray-pneumonia.zip to /content\n",
            "100% 2.29G/2.29G [00:29<00:00, 19.1MB/s]\n",
            "100% 2.29G/2.29G [00:29<00:00, 82.8MB/s]\n"
          ],
          "name": "stdout"
        }
      ]
    },
    {
      "cell_type": "code",
      "metadata": {
        "id": "uAFYGtgvtULe",
        "colab_type": "code",
        "colab": {
          "base_uri": "https://localhost:8080/",
          "height": 34
        },
        "outputId": "5d4f074f-1c16-4eee-ac57-085b18114a04"
      },
      "source": [
        "from zipfile import ZipFile\n",
        "file_name = \"chest-xray-pneumonia.zip\"\n",
        "\n",
        "with ZipFile(file_name,'r') as zip:\n",
        "  zip.extractall()\n",
        "  print(\"Done\")"
      ],
      "execution_count": 6,
      "outputs": [
        {
          "output_type": "stream",
          "text": [
            "Done\n"
          ],
          "name": "stdout"
        }
      ]
    },
    {
      "cell_type": "markdown",
      "metadata": {
        "id": "wv3mVtEam57w",
        "colab_type": "text"
      },
      "source": [
        "## Importing Necessary Libraries"
      ]
    },
    {
      "cell_type": "code",
      "metadata": {
        "id": "rSIk6qjgm_Bz",
        "colab_type": "code",
        "colab": {
          "base_uri": "https://localhost:8080/",
          "height": 72
        },
        "outputId": "210ece89-2aa5-4c85-a5fa-a054851b355b"
      },
      "source": [
        "import numpy as np\n",
        "import pandas as pd\n",
        "import matplotlib.pyplot as plt\n",
        "import seaborn as sns"
      ],
      "execution_count": 7,
      "outputs": [
        {
          "output_type": "stream",
          "text": [
            "/usr/local/lib/python3.6/dist-packages/statsmodels/tools/_testing.py:19: FutureWarning: pandas.util.testing is deprecated. Use the functions in the public API at pandas.testing instead.\n",
            "  import pandas.util.testing as tm\n"
          ],
          "name": "stderr"
        }
      ]
    },
    {
      "cell_type": "code",
      "metadata": {
        "id": "Z_MxMWtnnaTD",
        "colab_type": "code",
        "colab": {}
      },
      "source": [
        "test_path = '/content/chest_xray/test'\n",
        "train_path = '/content/chest_xray/train'\n",
        "val_path = '/content/chest_xray/val'"
      ],
      "execution_count": 8,
      "outputs": []
    },
    {
      "cell_type": "code",
      "metadata": {
        "id": "_CssTblCoGj0",
        "colab_type": "code",
        "colab": {}
      },
      "source": [
        "import tensorflow \n",
        "#print(tf.__version__)"
      ],
      "execution_count": 9,
      "outputs": []
    },
    {
      "cell_type": "code",
      "metadata": {
        "id": "WJdPcP5boPif",
        "colab_type": "code",
        "colab": {}
      },
      "source": [
        "from tensorflow import keras\n",
        "from tensorflow.keras.optimizers import  Adam, Adadelta\n",
        "from tensorflow.keras.models import Model\n",
        "from tensorflow.keras.applications.vgg16 import VGG16\n",
        "from tensorflow.keras.applications.vgg16 import preprocess_input\n",
        "from tensorflow.keras.preprocessing import image\n",
        "from tensorflow.keras.layers import Dense, Flatten, Conv2D, MaxPooling2D, BatchNormalization ,Dropout\n",
        "from tensorflow.keras.models import Sequential\n",
        "from tensorflow.keras.callbacks import Callback\n",
        "from tensorflow.keras.preprocessing.image import ImageDataGenerator\n",
        "from glob import glob"
      ],
      "execution_count": 10,
      "outputs": []
    },
    {
      "cell_type": "code",
      "metadata": {
        "id": "tmcvCEZUonPk",
        "colab_type": "code",
        "colab": {}
      },
      "source": [
        "# re-size all the images to this\n",
        "IMAGE_SIZE = [224, 224]"
      ],
      "execution_count": 11,
      "outputs": []
    },
    {
      "cell_type": "code",
      "metadata": {
        "id": "aCI1A48xpQ91",
        "colab_type": "code",
        "colab": {}
      },
      "source": [
        "train_datagen = ImageDataGenerator(\n",
        "    rotation_range=20,\n",
        "    width_shift_range=0.10, # Shift the pic width by a max of 5%\n",
        "    height_shift_range=0.10, # Shift the pic height by a max of 5%\n",
        "    rescale=1./255, # Rescale the image by normalzing it.\n",
        "    shear_range=0.1, # Shear means cutting away part of the image (max 10%)\n",
        "    zoom_range=0.1, # Zoom in by 10% max\n",
        "    horizontal_flip=True, # Allo horizontal flipping\n",
        "    fill_mode='nearest' # Fill in missing pixels with the nearest filled value\n",
        ")\n",
        "test_datagen = ImageDataGenerator(rescale = 1./255)\n",
        "val_datagen = ImageDataGenerator(rescale = 1./255)\n"
      ],
      "execution_count": 12,
      "outputs": []
    },
    {
      "cell_type": "code",
      "metadata": {
        "id": "w4D1Ddb1qF2-",
        "colab_type": "code",
        "colab": {
          "base_uri": "https://localhost:8080/",
          "height": 34
        },
        "outputId": "614dd690-bb51-49a2-c9e0-bdfc1220abb3"
      },
      "source": [
        "train_gen = train_datagen.flow_from_directory(\n",
        "    train_path,\n",
        "    target_size=IMAGE_SIZE,\n",
        "    batch_size=32,\n",
        "    #class_mode='binary'\n",
        "    \n",
        ")"
      ],
      "execution_count": 13,
      "outputs": [
        {
          "output_type": "stream",
          "text": [
            "Found 5216 images belonging to 2 classes.\n"
          ],
          "name": "stdout"
        }
      ]
    },
    {
      "cell_type": "code",
      "metadata": {
        "id": "yZjsD9hDqTP9",
        "colab_type": "code",
        "colab": {
          "base_uri": "https://localhost:8080/",
          "height": 34
        },
        "outputId": "344d672e-df22-478a-dc47-af053ca321ab"
      },
      "source": [
        "test_gen = test_datagen.flow_from_directory(\n",
        "    test_path,\n",
        "    target_size=IMAGE_SIZE,\n",
        "    batch_size=32,\n",
        "    #class_mode='binary'\n",
        "    \n",
        ")"
      ],
      "execution_count": 14,
      "outputs": [
        {
          "output_type": "stream",
          "text": [
            "Found 624 images belonging to 2 classes.\n"
          ],
          "name": "stdout"
        }
      ]
    },
    {
      "cell_type": "code",
      "metadata": {
        "id": "08qT-_d7qbH4",
        "colab_type": "code",
        "colab": {
          "base_uri": "https://localhost:8080/",
          "height": 34
        },
        "outputId": "1e8beedc-5957-468d-9bcc-e8183d958ce4"
      },
      "source": [
        "val_gen = val_datagen.flow_from_directory(\n",
        "    val_path,\n",
        "    target_size=IMAGE_SIZE,\n",
        "    batch_size=32,\n",
        "    #class_mode='binary'\n",
        "    \n",
        ")"
      ],
      "execution_count": 15,
      "outputs": [
        {
          "output_type": "stream",
          "text": [
            "Found 16 images belonging to 2 classes.\n"
          ],
          "name": "stdout"
        }
      ]
    },
    {
      "cell_type": "code",
      "metadata": {
        "id": "wilk9kb3ow-d",
        "colab_type": "code",
        "colab": {
          "base_uri": "https://localhost:8080/",
          "height": 72
        },
        "outputId": "00c967f1-4fec-47e4-af10-461ce815273f"
      },
      "source": [
        "vgg = VGG16(input_shape=IMAGE_SIZE + [3], weights='imagenet', include_top=False)"
      ],
      "execution_count": 16,
      "outputs": [
        {
          "output_type": "stream",
          "text": [
            "Downloading data from https://storage.googleapis.com/tensorflow/keras-applications/vgg16/vgg16_weights_tf_dim_ordering_tf_kernels_notop.h5\n",
            "58892288/58889256 [==============================] - 0s 0us/step\n"
          ],
          "name": "stdout"
        }
      ]
    },
    {
      "cell_type": "code",
      "metadata": {
        "id": "R76NnMX0qaS4",
        "colab_type": "code",
        "colab": {}
      },
      "source": [
        "# don't train existing weights\n",
        "for layer in vgg.layers:\n",
        "    layer.trainable = False"
      ],
      "execution_count": 17,
      "outputs": []
    },
    {
      "cell_type": "code",
      "metadata": {
        "id": "D9MHhYPTo7EB",
        "colab_type": "code",
        "colab": {}
      },
      "source": [
        "# useful for getting number of output classes\n",
        "folders = glob('/content/chest_xray/train/*')"
      ],
      "execution_count": 18,
      "outputs": []
    },
    {
      "cell_type": "code",
      "metadata": {
        "id": "JEQ9a33vq_FT",
        "colab_type": "code",
        "colab": {}
      },
      "source": [
        "# our layers - you can add more if you want\n",
        "\n",
        "x = Flatten()(vgg.output)"
      ],
      "execution_count": 19,
      "outputs": []
    },
    {
      "cell_type": "code",
      "metadata": {
        "id": "q6ViDSTIrGJQ",
        "colab_type": "code",
        "colab": {}
      },
      "source": [
        "prediction = Dense(2, activation='softmax')(x)\n",
        "\n",
        "# create a model object\n",
        "model = Model(inputs=vgg.input, outputs=prediction)"
      ],
      "execution_count": 20,
      "outputs": []
    },
    {
      "cell_type": "code",
      "metadata": {
        "id": "hf-fruEXtkJa",
        "colab_type": "code",
        "colab": {
          "base_uri": "https://localhost:8080/",
          "height": 896
        },
        "outputId": "60d4ae3c-4563-442e-e5cc-e2e341845fcd"
      },
      "source": [
        "model.summary()"
      ],
      "execution_count": 21,
      "outputs": [
        {
          "output_type": "stream",
          "text": [
            "Model: \"functional_1\"\n",
            "_________________________________________________________________\n",
            "Layer (type)                 Output Shape              Param #   \n",
            "=================================================================\n",
            "input_1 (InputLayer)         [(None, 224, 224, 3)]     0         \n",
            "_________________________________________________________________\n",
            "block1_conv1 (Conv2D)        (None, 224, 224, 64)      1792      \n",
            "_________________________________________________________________\n",
            "block1_conv2 (Conv2D)        (None, 224, 224, 64)      36928     \n",
            "_________________________________________________________________\n",
            "block1_pool (MaxPooling2D)   (None, 112, 112, 64)      0         \n",
            "_________________________________________________________________\n",
            "block2_conv1 (Conv2D)        (None, 112, 112, 128)     73856     \n",
            "_________________________________________________________________\n",
            "block2_conv2 (Conv2D)        (None, 112, 112, 128)     147584    \n",
            "_________________________________________________________________\n",
            "block2_pool (MaxPooling2D)   (None, 56, 56, 128)       0         \n",
            "_________________________________________________________________\n",
            "block3_conv1 (Conv2D)        (None, 56, 56, 256)       295168    \n",
            "_________________________________________________________________\n",
            "block3_conv2 (Conv2D)        (None, 56, 56, 256)       590080    \n",
            "_________________________________________________________________\n",
            "block3_conv3 (Conv2D)        (None, 56, 56, 256)       590080    \n",
            "_________________________________________________________________\n",
            "block3_pool (MaxPooling2D)   (None, 28, 28, 256)       0         \n",
            "_________________________________________________________________\n",
            "block4_conv1 (Conv2D)        (None, 28, 28, 512)       1180160   \n",
            "_________________________________________________________________\n",
            "block4_conv2 (Conv2D)        (None, 28, 28, 512)       2359808   \n",
            "_________________________________________________________________\n",
            "block4_conv3 (Conv2D)        (None, 28, 28, 512)       2359808   \n",
            "_________________________________________________________________\n",
            "block4_pool (MaxPooling2D)   (None, 14, 14, 512)       0         \n",
            "_________________________________________________________________\n",
            "block5_conv1 (Conv2D)        (None, 14, 14, 512)       2359808   \n",
            "_________________________________________________________________\n",
            "block5_conv2 (Conv2D)        (None, 14, 14, 512)       2359808   \n",
            "_________________________________________________________________\n",
            "block5_conv3 (Conv2D)        (None, 14, 14, 512)       2359808   \n",
            "_________________________________________________________________\n",
            "block5_pool (MaxPooling2D)   (None, 7, 7, 512)         0         \n",
            "_________________________________________________________________\n",
            "flatten (Flatten)            (None, 25088)             0         \n",
            "_________________________________________________________________\n",
            "dense (Dense)                (None, 2)                 50178     \n",
            "=================================================================\n",
            "Total params: 14,764,866\n",
            "Trainable params: 50,178\n",
            "Non-trainable params: 14,714,688\n",
            "_________________________________________________________________\n"
          ],
          "name": "stdout"
        }
      ]
    },
    {
      "cell_type": "code",
      "metadata": {
        "id": "3JD92io4u95E",
        "colab_type": "code",
        "colab": {}
      },
      "source": [
        "\n",
        "model.compile(loss='categorical_crossentropy', optimizer='adam', metrics=['accuracy'])\n"
      ],
      "execution_count": 22,
      "outputs": []
    },
    {
      "cell_type": "code",
      "metadata": {
        "id": "lsbg5AsZvHuu",
        "colab_type": "code",
        "colab": {
          "base_uri": "https://localhost:8080/",
          "height": 1000
        },
        "outputId": "b9dac5d8-79a3-471f-c775-8aaf78bc8c51"
      },
      "source": [
        "# fit the model\n",
        "# Run the cell. It will take some time to execute\n",
        "cpt_filename = 'checkpoint_best.h5'\n",
        "mcp = tensorflow.keras.callbacks.ModelCheckpoint(filepath=cpt_filename, monitor='val_accuracy',\n",
        "                                         verbose=1, save_best_only=True, mode='max')\n",
        "\n",
        "history = model.fit(\n",
        "  train_gen,\n",
        "  validation_data=test_gen,\n",
        "  epochs=30,\n",
        "  steps_per_epoch=len(train_gen),\n",
        "  validation_steps=len(test_gen),\n",
        "  callbacks=[mcp],\n",
        "  verbose=2\n",
        ")"
      ],
      "execution_count": 23,
      "outputs": [
        {
          "output_type": "stream",
          "text": [
            "Epoch 1/30\n",
            "\n",
            "Epoch 00001: val_accuracy improved from -inf to 0.91667, saving model to checkpoint_best.h5\n",
            "163/163 - 102s - loss: 0.2535 - accuracy: 0.9032 - val_loss: 0.2424 - val_accuracy: 0.9167\n",
            "Epoch 2/30\n",
            "\n",
            "Epoch 00002: val_accuracy did not improve from 0.91667\n",
            "163/163 - 102s - loss: 0.1234 - accuracy: 0.9538 - val_loss: 0.4321 - val_accuracy: 0.8574\n",
            "Epoch 3/30\n",
            "\n",
            "Epoch 00003: val_accuracy did not improve from 0.91667\n",
            "163/163 - 101s - loss: 0.1002 - accuracy: 0.9609 - val_loss: 0.2631 - val_accuracy: 0.9135\n",
            "Epoch 4/30\n",
            "\n",
            "Epoch 00004: val_accuracy did not improve from 0.91667\n",
            "163/163 - 101s - loss: 0.0979 - accuracy: 0.9632 - val_loss: 0.2967 - val_accuracy: 0.9103\n",
            "Epoch 5/30\n",
            "\n",
            "Epoch 00005: val_accuracy did not improve from 0.91667\n",
            "163/163 - 101s - loss: 0.0933 - accuracy: 0.9661 - val_loss: 0.6527 - val_accuracy: 0.8317\n",
            "Epoch 6/30\n",
            "\n",
            "Epoch 00006: val_accuracy did not improve from 0.91667\n",
            "163/163 - 101s - loss: 0.0889 - accuracy: 0.9657 - val_loss: 0.3273 - val_accuracy: 0.9103\n",
            "Epoch 7/30\n",
            "\n",
            "Epoch 00007: val_accuracy did not improve from 0.91667\n",
            "163/163 - 102s - loss: 0.0756 - accuracy: 0.9720 - val_loss: 0.4255 - val_accuracy: 0.8846\n",
            "Epoch 8/30\n",
            "\n",
            "Epoch 00008: val_accuracy did not improve from 0.91667\n",
            "163/163 - 102s - loss: 0.0802 - accuracy: 0.9697 - val_loss: 0.4607 - val_accuracy: 0.8846\n",
            "Epoch 9/30\n",
            "\n",
            "Epoch 00009: val_accuracy improved from 0.91667 to 0.92628, saving model to checkpoint_best.h5\n",
            "163/163 - 102s - loss: 0.0693 - accuracy: 0.9722 - val_loss: 0.2575 - val_accuracy: 0.9263\n",
            "Epoch 10/30\n",
            "\n",
            "Epoch 00010: val_accuracy did not improve from 0.92628\n",
            "163/163 - 101s - loss: 0.0800 - accuracy: 0.9709 - val_loss: 0.5913 - val_accuracy: 0.8750\n",
            "Epoch 11/30\n",
            "\n",
            "Epoch 00011: val_accuracy did not improve from 0.92628\n",
            "163/163 - 101s - loss: 0.0680 - accuracy: 0.9758 - val_loss: 0.7227 - val_accuracy: 0.8317\n",
            "Epoch 12/30\n",
            "\n",
            "Epoch 00012: val_accuracy did not improve from 0.92628\n",
            "163/163 - 101s - loss: 0.0740 - accuracy: 0.9718 - val_loss: 0.3062 - val_accuracy: 0.9071\n",
            "Epoch 13/30\n",
            "\n",
            "Epoch 00013: val_accuracy did not improve from 0.92628\n",
            "163/163 - 101s - loss: 0.0736 - accuracy: 0.9734 - val_loss: 0.4718 - val_accuracy: 0.8926\n",
            "Epoch 14/30\n",
            "\n",
            "Epoch 00014: val_accuracy did not improve from 0.92628\n",
            "163/163 - 102s - loss: 0.0689 - accuracy: 0.9737 - val_loss: 0.6339 - val_accuracy: 0.8702\n",
            "Epoch 15/30\n",
            "\n",
            "Epoch 00015: val_accuracy did not improve from 0.92628\n",
            "163/163 - 102s - loss: 0.0836 - accuracy: 0.9682 - val_loss: 0.4975 - val_accuracy: 0.8910\n",
            "Epoch 16/30\n",
            "\n",
            "Epoch 00016: val_accuracy did not improve from 0.92628\n",
            "163/163 - 102s - loss: 0.0685 - accuracy: 0.9735 - val_loss: 0.4468 - val_accuracy: 0.8974\n",
            "Epoch 17/30\n",
            "\n",
            "Epoch 00017: val_accuracy did not improve from 0.92628\n",
            "163/163 - 102s - loss: 0.0658 - accuracy: 0.9774 - val_loss: 0.5543 - val_accuracy: 0.8766\n",
            "Epoch 18/30\n",
            "\n",
            "Epoch 00018: val_accuracy did not improve from 0.92628\n",
            "163/163 - 102s - loss: 0.0650 - accuracy: 0.9766 - val_loss: 0.3966 - val_accuracy: 0.8990\n",
            "Epoch 19/30\n",
            "\n",
            "Epoch 00019: val_accuracy did not improve from 0.92628\n",
            "163/163 - 101s - loss: 0.0791 - accuracy: 0.9728 - val_loss: 0.4488 - val_accuracy: 0.9054\n",
            "Epoch 20/30\n",
            "\n",
            "Epoch 00020: val_accuracy did not improve from 0.92628\n",
            "163/163 - 102s - loss: 0.0813 - accuracy: 0.9724 - val_loss: 0.7743 - val_accuracy: 0.8606\n",
            "Epoch 21/30\n",
            "\n",
            "Epoch 00021: val_accuracy did not improve from 0.92628\n",
            "163/163 - 102s - loss: 0.0648 - accuracy: 0.9760 - val_loss: 0.6038 - val_accuracy: 0.8862\n",
            "Epoch 22/30\n",
            "\n",
            "Epoch 00022: val_accuracy did not improve from 0.92628\n",
            "163/163 - 101s - loss: 0.0687 - accuracy: 0.9774 - val_loss: 0.3829 - val_accuracy: 0.9167\n",
            "Epoch 23/30\n",
            "\n",
            "Epoch 00023: val_accuracy did not improve from 0.92628\n",
            "163/163 - 101s - loss: 0.0571 - accuracy: 0.9799 - val_loss: 0.4698 - val_accuracy: 0.9038\n",
            "Epoch 24/30\n",
            "\n",
            "Epoch 00024: val_accuracy did not improve from 0.92628\n",
            "163/163 - 102s - loss: 0.0711 - accuracy: 0.9751 - val_loss: 0.4962 - val_accuracy: 0.8958\n",
            "Epoch 25/30\n",
            "\n",
            "Epoch 00025: val_accuracy did not improve from 0.92628\n",
            "163/163 - 101s - loss: 0.0734 - accuracy: 0.9751 - val_loss: 0.5875 - val_accuracy: 0.8910\n",
            "Epoch 26/30\n",
            "\n",
            "Epoch 00026: val_accuracy did not improve from 0.92628\n",
            "163/163 - 102s - loss: 0.0583 - accuracy: 0.9797 - val_loss: 0.6114 - val_accuracy: 0.8894\n",
            "Epoch 27/30\n",
            "\n",
            "Epoch 00027: val_accuracy did not improve from 0.92628\n",
            "163/163 - 102s - loss: 0.0583 - accuracy: 0.9801 - val_loss: 0.6963 - val_accuracy: 0.8670\n",
            "Epoch 28/30\n",
            "\n",
            "Epoch 00028: val_accuracy did not improve from 0.92628\n",
            "163/163 - 102s - loss: 0.0820 - accuracy: 0.9743 - val_loss: 0.4803 - val_accuracy: 0.9054\n",
            "Epoch 29/30\n",
            "\n",
            "Epoch 00029: val_accuracy did not improve from 0.92628\n",
            "163/163 - 102s - loss: 0.0499 - accuracy: 0.9833 - val_loss: 0.6665 - val_accuracy: 0.8766\n",
            "Epoch 30/30\n",
            "\n",
            "Epoch 00030: val_accuracy did not improve from 0.92628\n",
            "163/163 - 102s - loss: 0.0657 - accuracy: 0.9764 - val_loss: 0.3425 - val_accuracy: 0.9167\n"
          ],
          "name": "stdout"
        }
      ]
    },
    {
      "cell_type": "code",
      "metadata": {
        "id": "u-TqnJYdA_uu",
        "colab_type": "code",
        "colab": {
          "base_uri": "https://localhost:8080/",
          "height": 531
        },
        "outputId": "8d106abf-2d1c-4ab4-b07e-599f07b03404"
      },
      "source": [
        "# plot the loss\n",
        "plt.plot(history.history['loss'], label='train loss')\n",
        "plt.plot(history.history['val_loss'], label='val loss')\n",
        "plt.legend()\n",
        "plt.show()\n",
        "plt.savefig('LossVal_loss')\n",
        "\n",
        "# plot the accuracy\n",
        "plt.plot(history.history['accuracy'], label='train acc')\n",
        "plt.plot(history.history['val_accuracy'], label='val acc')\n",
        "plt.legend()\n",
        "plt.show()\n",
        "plt.savefig('AccVal_acc')"
      ],
      "execution_count": 24,
      "outputs": [
        {
          "output_type": "display_data",
          "data": {
            "image/png": "[encoded data removed]",
            "text/plain": [
              "<Figure size 432x288 with 1 Axes>"
            ]
          },
          "metadata": {
            "tags": [],
            "needs_background": "light"
          }
        },
        {
          "output_type": "display_data",
          "data": {
            "image/png": "[encoded data removed]",
            "text/plain": [
              "<Figure size 432x288 with 1 Axes>"
            ]
          },
          "metadata": {
            "tags": [],
            "needs_background": "light"
          }
        },
        {
          "output_type": "display_data",
          "data": {
            "text/plain": [
              "<Figure size 432x288 with 0 Axes>"
            ]
          },
          "metadata": {
            "tags": []
          }
        }
      ]
    },
    {
      "cell_type": "code",
      "metadata": {
        "id": "FNwLCj0H1DXd",
        "colab_type": "code",
        "colab": {}
      },
      "source": [
        "predict = model.predict(test_gen)"
      ],
      "execution_count": 25,
      "outputs": []
    },
    {
      "cell_type": "code",
      "metadata": {
        "id": "ZYKPIHvQ7h54",
        "colab_type": "code",
        "colab": {}
      },
      "source": [
        "predict"
      ],
      "execution_count": null,
      "outputs": []
    },
    {
      "cell_type": "code",
      "metadata": {
        "id": "1Z_wU00lkQdt",
        "colab_type": "code",
        "colab": {}
      },
      "source": [
        "prediction=np.argmax(predict,axis=1)"
      ],
      "execution_count": 26,
      "outputs": []
    },
    {
      "cell_type": "code",
      "metadata": {
        "id": "d4hJFfkqpf8o",
        "colab_type": "code",
        "colab": {}
      },
      "source": [
        "from sklearn.metrics import classification_report,confusion_matrix"
      ],
      "execution_count": 27,
      "outputs": []
    },
    {
      "cell_type": "code",
      "metadata": {
        "id": "2se5CTnQj-I0",
        "colab_type": "code",
        "colab": {
          "base_uri": "https://localhost:8080/",
          "height": 175
        },
        "outputId": "bb8034a7-ea54-4a02-b539-115276d19d67"
      },
      "source": [
        "print(classification_report(test_gen.classes,prediction))"
      ],
      "execution_count": 28,
      "outputs": [
        {
          "output_type": "stream",
          "text": [
            "              precision    recall  f1-score   support\n",
            "\n",
            "           0       0.40      0.40      0.40       234\n",
            "           1       0.64      0.64      0.64       390\n",
            "\n",
            "    accuracy                           0.55       624\n",
            "   macro avg       0.52      0.52      0.52       624\n",
            "weighted avg       0.55      0.55      0.55       624\n",
            "\n"
          ],
          "name": "stdout"
        }
      ]
    },
    {
      "cell_type": "code",
      "metadata": {
        "id": "2-gSLX9Skk1A",
        "colab_type": "code",
        "colab": {
          "base_uri": "https://localhost:8080/",
          "height": 52
        },
        "outputId": "97e3bdba-dafa-40dd-b0a9-8f56129b9ab0"
      },
      "source": [
        "cm=confusion_matrix(test_gen.classes,prediction)\n",
        "cm"
      ],
      "execution_count": 31,
      "outputs": [
        {
          "output_type": "execute_result",
          "data": {
            "text/plain": [
              "array([[ 93, 141],\n",
              "       [141, 249]])"
            ]
          },
          "metadata": {
            "tags": []
          },
          "execution_count": 31
        }
      ]
    },
    {
      "cell_type": "code",
      "metadata": {
        "id": "QMv2MEHRSkR8",
        "colab_type": "code",
        "colab": {
          "base_uri": "https://localhost:8080/",
          "height": 52
        },
        "outputId": "5d692d48-b35f-40f3-8262-ad729c1887db"
      },
      "source": [
        "sensitivity = cm[0,0]/(cm[0,0]+cm[1,0])\n",
        "print('Sensitivity : ', sensitivity )\n",
        "\n",
        "specificity = cm[1,1]/(cm[1,1]+cm[0,1])\n",
        "print('Specificity : ', specificity)"
      ],
      "execution_count": 32,
      "outputs": [
        {
          "output_type": "stream",
          "text": [
            "Sensitivity :  0.3974358974358974\n",
            "Specificity :  0.6384615384615384\n"
          ],
          "name": "stdout"
        }
      ]
    },
    {
      "cell_type": "code",
      "metadata": {
        "id": "SE9pLLicm78_",
        "colab_type": "code",
        "colab": {}
      },
      "source": [
        "model.save('VGG16_New.h5')"
      ],
      "execution_count": 35,
      "outputs": []
    }
  ]
}